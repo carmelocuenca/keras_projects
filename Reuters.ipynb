{
 "cells": [
  {
   "cell_type": "markdown",
   "metadata": {},
   "source": [
    "# A Multiclass Classification Example\n",
    "## Setup Jupyter, Conda...\n",
    "```\n",
    "$ conda create --name reuters # Crear un env, similar a un gemset de Ruby\n",
    "$ conda activate reuters\n",
    "$ source activate reuters\n",
    "$ conda install ipykernel # Para que Jupyter reconozco el env de Conda\n",
    "$ conda install keras\n",
    "$ jupyter notebook\n",
    "```"
   ]
  },
  {
   "cell_type": "markdown",
   "metadata": {},
   "source": [
    "## Loading the Reuters dataset"
   ]
  },
  {
   "cell_type": "code",
   "execution_count": 2,
   "metadata": {},
   "outputs": [
    {
     "name": "stderr",
     "output_type": "stream",
     "text": [
      "Using TensorFlow backend.\n",
      "/Users/carmelo.cuenca/anaconda3/envs/reuters/lib/python3.6/importlib/_bootstrap.py:219: RuntimeWarning: compiletime version 3.5 of module 'tensorflow.python.framework.fast_tensor_util' does not match runtime version 3.6\n",
      "  return f(*args, **kwds)\n"
     ]
    },
    {
     "name": "stdout",
     "output_type": "stream",
     "text": [
      "Downloading data from https://s3.amazonaws.com/text-datasets/reuters.npz\n",
      "2113536/2110848 [==============================] - 2s 1us/step\n"
     ]
    }
   ],
   "source": [
    "from keras.datasets import reuters\n",
    "(train_data, train_labels), (test_data, test_labels) = reuters.load_data(num_words=10000)"
   ]
  },
  {
   "cell_type": "markdown",
   "metadata": {},
   "source": [
    "## Mapping integer indices to words"
   ]
  },
  {
   "cell_type": "code",
   "execution_count": 3,
   "metadata": {},
   "outputs": [
    {
     "name": "stdout",
     "output_type": "stream",
     "text": [
      "Downloading data from https://s3.amazonaws.com/text-datasets/reuters_word_index.json\n",
      "557056/550378 [==============================] - 1s 2us/step\n",
      "? ? ? said as a result of its december acquisition of space co it expects earnings per share in 1987 of 1 15 to 1 30 dlrs per share up from 70 cts in 1986 the company said pretax net should rise to nine to 10 mln dlrs from six mln dlrs in 1986 and rental operation revenues to 19 to 22 mln dlrs from 12 5 mln dlrs it said cash flow per share this year should be 2 50 to three dlrs reuter 3\n"
     ]
    }
   ],
   "source": [
    "word_index = reuters.get_word_index()\n",
    "reverse_word_index = dict([(value, key) for (key, value) in word_index.items()])\n",
    "decoded_newswire = ' '.join([reverse_word_index.get(i-3, '?') for i in train_data[0]])\n",
    "print(decoded_newswire)"
   ]
  },
  {
   "cell_type": "code",
   "execution_count": 7,
   "metadata": {
    "collapsed": true
   },
   "outputs": [],
   "source": [
    "## Preparing the data"
   ]
  },
  {
   "cell_type": "code",
   "execution_count": 18,
   "metadata": {
    "collapsed": true
   },
   "outputs": [],
   "source": [
    "import numpy as np\n",
    "def vectorize_sequences(sequences, dimension=10000):\n",
    "    results = np.zeros((len(sequences), dimension))\n",
    "    for i, sequence in enumerate(sequences):\n",
    "        results[i, sequence] = 1.\n",
    "    return results\n",
    "x_train = vectorize_sequences(train_data)\n",
    "x_test = vectorize_sequences(test_data)\n",
    "\n",
    "from keras.utils.np_utils import to_categorical\n",
    "\n",
    "one_hot_train_labels = to_categorical(train_labels)\n",
    "one_hot_test_labels = to_categorical(test_labels)\n"
   ]
  },
  {
   "cell_type": "code",
   "execution_count": 9,
   "metadata": {
    "collapsed": true
   },
   "outputs": [],
   "source": [
    "## Building the network"
   ]
  },
  {
   "cell_type": "code",
   "execution_count": 19,
   "metadata": {
    "collapsed": true
   },
   "outputs": [],
   "source": [
    "from keras import models\n",
    "from keras import layers\n",
    "\n",
    "model = models.Sequential()\n",
    "model.add(layers.Dense(64, activation='relu', input_shape=(10000,)))\n",
    "model.add(layers.Dense(64, activation='relu'))\n",
    "model.add(layers.Dense(46, activation='sigmoid')) # To be a probability"
   ]
  },
  {
   "cell_type": "markdown",
   "metadata": {},
   "source": [
    "## Compiling the model"
   ]
  },
  {
   "cell_type": "code",
   "execution_count": 22,
   "metadata": {
    "collapsed": true
   },
   "outputs": [],
   "source": [
    "from keras import optimizers\n",
    "model.compile(optimizer='rmsprop',\n",
    "             loss='categorical_crossentropy', # binary or categorical\n",
    "             metrics=['accuracy'])\n"
   ]
  },
  {
   "cell_type": "markdown",
   "metadata": {},
   "source": [
    "## Configuring the model using custom losses and metrics\n",
    "\n",
    "```\n",
    "from keras import losses\n",
    "from keras import metrics\n",
    "\n",
    "model.compile(optimizer=optimizers.RMSprop(lr=0.001),\n",
    "              loss=losses.binary_crossentropy,\n",
    "              metrics=[metrics.binary_accuracy])\n",
    "```"
   ]
  },
  {
   "cell_type": "markdown",
   "metadata": {},
   "source": [
    "## Setting aside a validation set"
   ]
  },
  {
   "cell_type": "code",
   "execution_count": 24,
   "metadata": {
    "collapsed": true
   },
   "outputs": [],
   "source": [
    "x_val = x_train[:1000]\n",
    "partial_x_train = x_train[1000:]\n",
    "\n",
    "y_val = one_hot_train_labels[:1000]\n",
    "partial_y_train = one_hot_train_labels[1000:]"
   ]
  },
  {
   "cell_type": "markdown",
   "metadata": {},
   "source": [
    "## Training the model"
   ]
  },
  {
   "cell_type": "code",
   "execution_count": 32,
   "metadata": {},
   "outputs": [
    {
     "name": "stdout",
     "output_type": "stream",
     "text": [
      "Train on 7982 samples, validate on 1000 samples\n",
      "Epoch 1/20\n",
      "7982/7982 [==============================] - 1s 122us/step - loss: 0.0929 - acc: 0.9585 - val_loss: 1.2911 - val_acc: 0.7890\n",
      "Epoch 2/20\n",
      "7982/7982 [==============================] - 1s 131us/step - loss: 0.0959 - acc: 0.9575 - val_loss: 1.2880 - val_acc: 0.7800\n",
      "Epoch 3/20\n",
      "7982/7982 [==============================] - 1s 139us/step - loss: 0.0915 - acc: 0.9588 - val_loss: 1.2491 - val_acc: 0.7930\n",
      "Epoch 4/20\n",
      "7982/7982 [==============================] - 1s 147us/step - loss: 0.0878 - acc: 0.9582 - val_loss: 1.2771 - val_acc: 0.7820\n",
      "Epoch 5/20\n",
      "7982/7982 [==============================] - 1s 120us/step - loss: 0.0914 - acc: 0.9602 - val_loss: 1.2741 - val_acc: 0.7870\n",
      "Epoch 6/20\n",
      "7982/7982 [==============================] - 1s 133us/step - loss: 0.0892 - acc: 0.9608 - val_loss: 1.2678 - val_acc: 0.7920\n",
      "Epoch 7/20\n",
      "7982/7982 [==============================] - 1s 120us/step - loss: 0.0865 - acc: 0.9590 - val_loss: 1.2647 - val_acc: 0.7900\n",
      "Epoch 8/20\n",
      "7982/7982 [==============================] - 1s 121us/step - loss: 0.0835 - acc: 0.9608 - val_loss: 1.2817 - val_acc: 0.7860\n",
      "Epoch 9/20\n",
      "7982/7982 [==============================] - 1s 128us/step - loss: 0.0903 - acc: 0.9602 - val_loss: 1.3090 - val_acc: 0.7820\n",
      "Epoch 10/20\n",
      "7982/7982 [==============================] - 1s 129us/step - loss: 0.0868 - acc: 0.9588 - val_loss: 1.3027 - val_acc: 0.7880\n",
      "Epoch 11/20\n",
      "7982/7982 [==============================] - 1s 125us/step - loss: 0.0870 - acc: 0.9595 - val_loss: 1.3005 - val_acc: 0.7820\n",
      "Epoch 12/20\n",
      "7982/7982 [==============================] - 1s 138us/step - loss: 0.0839 - acc: 0.9597 - val_loss: 1.3001 - val_acc: 0.7890\n",
      "Epoch 13/20\n",
      "7982/7982 [==============================] - 1s 128us/step - loss: 0.0831 - acc: 0.9594 - val_loss: 1.3239 - val_acc: 0.7850\n",
      "Epoch 14/20\n",
      "7982/7982 [==============================] - 1s 130us/step - loss: 0.0786 - acc: 0.9617 - val_loss: 1.3501 - val_acc: 0.7650\n",
      "Epoch 15/20\n",
      "7982/7982 [==============================] - 1s 128us/step - loss: 0.0848 - acc: 0.9580 - val_loss: 1.3226 - val_acc: 0.7810\n",
      "Epoch 16/20\n",
      "7982/7982 [==============================] - 1s 131us/step - loss: 0.0797 - acc: 0.9583 - val_loss: 1.3061 - val_acc: 0.7880\n",
      "Epoch 17/20\n",
      "7982/7982 [==============================] - 1s 131us/step - loss: 0.0752 - acc: 0.9628 - val_loss: 1.4363 - val_acc: 0.7720\n",
      "Epoch 18/20\n",
      "7982/7982 [==============================] - 1s 131us/step - loss: 0.0810 - acc: 0.9588 - val_loss: 1.3155 - val_acc: 0.7850\n",
      "Epoch 19/20\n",
      "7982/7982 [==============================] - 1s 129us/step - loss: 0.0754 - acc: 0.9595 - val_loss: 1.3798 - val_acc: 0.7760\n",
      "Epoch 20/20\n",
      "7982/7982 [==============================] - 1s 128us/step - loss: 0.0734 - acc: 0.9598 - val_loss: 1.3279 - val_acc: 0.7810\n"
     ]
    }
   ],
   "source": [
    "history = model.fit(partial_x_train,\n",
    "                    partial_y_train,\n",
    "                    epochs=20,\n",
    "                    batch_size=512,\n",
    "                    validation_data=(x_val, y_val))"
   ]
  },
  {
   "cell_type": "markdown",
   "metadata": {},
   "source": [
    "## Plotting the training and validation loss"
   ]
  },
  {
   "cell_type": "code",
   "execution_count": 34,
   "metadata": {},
   "outputs": [
    {
     "data": {
      "image/png": "[encoded data removed]",
      "text/plain": [
       "<matplotlib.figure.Figure at 0x1819783fd0>"
      ]
     },
     "metadata": {},
     "output_type": "display_data"
    }
   ],
   "source": [
    "import matplotlib.pyplot as plt\n",
    "\n",
    "loss_values = history_dict['loss']\n",
    "val_loss_values = history_dict['val_loss']\n",
    "\n",
    "epochs = range(1, len(history_dict['acc']) + 1)\n",
    "\n",
    "plt.plot(epochs, loss_values, 'bo', label='Training loss')\n",
    "plt.plot(epochs, val_loss_values, 'b', label='Validation loss')\n",
    "\n",
    "plt.title('Training and validation loss')\n",
    "plt.xlabel('Epochs')\n",
    "plt.ylabel('Loss')\n",
    "plt.legend()\n",
    "\n",
    "plt.show()"
   ]
  },
  {
   "cell_type": "markdown",
   "metadata": {},
   "source": [
    "## Plotting the training and validation accuracy"
   ]
  },
  {
   "cell_type": "code",
   "execution_count": 35,
   "metadata": {},
   "outputs": [
    {
     "data": {
      "image/png": "[encoded data removed]",
      "text/plain": [
       "<matplotlib.figure.Figure at 0x181a011160>"
      ]
     },
     "metadata": {},
     "output_type": "display_data"
    }
   ],
   "source": [
    "plt.clf()\n",
    "\n",
    "acc = history_dict['acc']\n",
    "val_acc = history_dict['val_acc']\n",
    "\n",
    "plt.plot(epochs, acc, 'bo', label='Training acc')\n",
    "plt.plot(epochs, val_acc, 'b', label='Validation acc')\n",
    "\n",
    "plt.title('Training and validation accuaricy')\n",
    "plt.xlabel('Epochs')\n",
    "plt.ylabel('Loss')\n",
    "plt.legend()\n",
    "\n",
    "plt.show()"
   ]
  },
  {
   "cell_type": "code",
   "execution_count": 40,
   "metadata": {},
   "outputs": [
    {
     "name": "stdout",
     "output_type": "stream",
     "text": [
      "2246/2246 [==============================] - 0s 138us/step\n"
     ]
    },
    {
     "data": {
      "text/plain": [
       "[1.5140970078092117, 0.77916295636687449]"
      ]
     },
     "execution_count": 40,
     "metadata": {},
     "output_type": "execute_result"
    }
   ],
   "source": [
    "results = model.evaluate(x_test, one_hot_test_labels)\n",
    "results"
   ]
  },
  {
   "cell_type": "code",
   "execution_count": null,
   "metadata": {
    "collapsed": true
   },
   "outputs": [],
   "source": []
  }
 ],
 "metadata": {
  "kernelspec": {
   "display_name": "Python [conda env:reuters]",
   "language": "python",
   "name": "conda-env-reuters-py"
  },
  "language_info": {
   "codemirror_mode": {
    "name": "ipython",
    "version": 3
   },
   "file_extension": ".py",
   "mimetype": "text/x-python",
   "name": "python",
   "nbconvert_exporter": "python",
   "pygments_lexer": "ipython3",
   "version": "3.6.4"
  }
 },
 "nbformat": 4,
 "nbformat_minor": 2
}
